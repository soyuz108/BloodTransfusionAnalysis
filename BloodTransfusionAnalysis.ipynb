{
 "cells": [
  {
   "cell_type": "markdown",
   "metadata": {},
   "source": [
    "### Familiar: A Study In Data Analysis\n",
    "Familiar, a startup in the new market of blood transfusion, has fallen into some tough times lately, so our goal is to help them make some insights about their product and help move the needle."
   ]
  },
  {
   "cell_type": "code",
   "execution_count": 24,
   "metadata": {},
   "outputs": [
    {
     "name": "stdout",
     "output_type": "stream",
     "text": [
      "     pack   lifespan\n",
      "0    vein  76.255090\n",
      "1  artery  76.404504\n",
      "2  artery  75.952442\n",
      "3  artery  76.923082\n",
      "4  artery  73.771212\n"
     ]
    }
   ],
   "source": [
    "# Import libraries\n",
    "import pandas as pd\n",
    "import numpy as np\n",
    "\n",
    "from scipy.stats import ttest_1samp\n",
    "from scipy.stats import ttest_ind\n",
    "from scipy.stats import chi2_contingency\n",
    "\n",
    "# Load a dataset and print the result\n",
    "lifespans = pd.read_csv(\"data_lifespan.csv\")\n",
    "print(lifespans.head())"
   ]
  },
  {
   "cell_type": "markdown",
   "metadata": {},
   "source": [
    "The first thing we want to know is whether Familiar’s most basic package, the Vein Pack, actually has a significant impact on the subscribers. It would be a marketing goldmine if we can show that subscribers to the Vein Pack live longer than other people. \n",
    "\n",
    "We want to extract the life spans of subscribers to the 'vein' pack and save the data into a variable."
   ]
  },
  {
   "cell_type": "code",
   "execution_count": 25,
   "metadata": {},
   "outputs": [
    {
     "name": "stdout",
     "output_type": "stream",
     "text": [
      "76.16901335636044\n"
     ]
    }
   ],
   "source": [
    "# Save the life spans of subscribers to the 'vein' pack\n",
    "vein_pack_lifespans = lifespans.lifespan[lifespans.pack == \"vein\"]\n",
    "\n",
    "# Calculate mean value\n",
    "mean_vein_lifespans = np.mean(vein_pack_lifespans)\n",
    "# Print the result\n",
    "print(mean_vein_lifespans)"
   ]
  },
  {
   "cell_type": "markdown",
   "metadata": {},
   "source": [
    "We’d like to find out if the average lifespan of a Vein Pack subscriber is significantly different from the average life expectancy of 73 years. We would use to test the following null and alternative hypotheses:\n",
    "- null: The average lifespan of a Vein Pack subscriber is 73 years\n",
    "- alternative: The average lifespan of a Vein Pack subscriber is NOT 73 years\n",
    "\n",
    "To compare a single sample of lifespans (quantitative data) and the mean of this sample to a hypothetical population value of 73 years, we'll go with a one sample t-test."
   ]
  },
  {
   "cell_type": "code",
   "execution_count": 26,
   "metadata": {},
   "outputs": [
    {
     "name": "stdout",
     "output_type": "stream",
     "text": [
      "5.972157921433201e-07\n"
     ]
    }
   ],
   "source": [
    "# Run a one sample t-test\n",
    "tstat, pval = ttest_1samp(vein_pack_lifespans, 73)\n",
    "# Print the result\n",
    "print(pval)"
   ]
  },
  {
   "cell_type": "markdown",
   "metadata": {},
   "source": [
    "The p-value result is equivalent to 0.000000597. This is much smaller than a significant threshold of 0.05, so we conclude that the average lifespan of Vein Pack subscribers IS significantly different from 73 years.\n",
    "\n",
    "### Pumping Life Into The Company\n",
    "In order to differentiate Familiar’s different product lines, we’d like to compare this lifespan data to another package - the Artery Pack."
   ]
  },
  {
   "cell_type": "code",
   "execution_count": 27,
   "metadata": {},
   "outputs": [
    {
     "name": "stdout",
     "output_type": "stream",
     "text": [
      "74.87366223517039\n"
     ]
    }
   ],
   "source": [
    "# Save the life spans of subscribers to the 'artery' pack\n",
    "artery_pack_lifespans = lifespans.lifespan[lifespans.pack == \"artery\"]\n",
    "\n",
    "# Calculate mean value\n",
    "mean_vein_lifespans = np.mean(artery_pack_lifespans)\n",
    "# Print the result\n",
    "print(mean_vein_lifespans)"
   ]
  },
  {
   "cell_type": "markdown",
   "metadata": {},
   "source": [
    "Now we’d like to find out if the average lifespan of a Vein Pack subscriber is significantly different from the average life expectancy for the Artery Pack. We would use to test the following null and alternative hypotheses:\n",
    "- null: The average lifespan of a Vein Pack subscriber is equal to the average lifespan of an Artery Pack subscriber\n",
    "- alternative: The average lifespan of a Vein Pack subscriber is NOT equal to the average lifespan of an Artery Pack subscriber\n",
    "\n",
    "For this test, we’re really looking at an association between two variables: whether a subscriber got the Vein Pack or Artery Pack (a binary categorical variable) and their lifetime (a quantitative variable)."
   ]
  },
  {
   "cell_type": "code",
   "execution_count": 28,
   "metadata": {},
   "outputs": [
    {
     "name": "stdout",
     "output_type": "stream",
     "text": [
      "0.055888830790708194\n"
     ]
    }
   ],
   "source": [
    "# Run a two-sample t-test\n",
    "tstat, pval = ttest_ind(vein_pack_lifespans, artery_pack_lifespans)\n",
    "# Print the result\n",
    "print(pval)"
   ]
  },
  {
   "cell_type": "markdown",
   "metadata": {},
   "source": [
    "This is larger than 0.05, so we conclude that the average lifespan of Vein Pack subscribers not significantly different from the average lifespan of an Artery Pack subscriber.\n",
    "\n",
    "### Side Effects\n",
    "We have been provided another dataset containing survey data about iron counts for our subscribers. This data has been pre-processed to categorize iron counts as “low”, “normal”, and “high” for each subscriber. Familiar wants to be able to advise potential subscribers about possible side effects of these packs and whether they differ for the Vein vs. the Artery pack."
   ]
  },
  {
   "cell_type": "code",
   "execution_count": 29,
   "metadata": {},
   "outputs": [
    {
     "name": "stdout",
     "output_type": "stream",
     "text": [
      "     pack    iron\n",
      "0    vein     low\n",
      "1  artery  normal\n",
      "2  artery  normal\n",
      "3  artery  normal\n",
      "4  artery    high\n"
     ]
    }
   ],
   "source": [
    "# Load a dataset and print the result\n",
    "iron = pd.read_csv(\"data_iron.csv\")\n",
    "print(iron.head())"
   ]
  },
  {
   "cell_type": "markdown",
   "metadata": {},
   "source": [
    "First of all, we'd like to know if there an association between the pack that a subscriber gets (Vein vs. Artery) and their iron level. To do that, we must create a contingency table of the 'pack' and 'iron' columns."
   ]
  },
  {
   "cell_type": "code",
   "execution_count": 30,
   "metadata": {},
   "outputs": [
    {
     "name": "stdout",
     "output_type": "stream",
     "text": [
      "iron    high  low  normal\n",
      "pack                     \n",
      "artery    87   29      29\n",
      "vein      20  140      40\n"
     ]
    }
   ],
   "source": [
    "# Create a contingency table and print the result\n",
    "Xtab = pd.crosstab(iron.pack, iron.iron)\n",
    "print(Xtab)"
   ]
  },
  {
   "cell_type": "markdown",
   "metadata": {},
   "source": [
    "To check if the association is significant, we would use to test the following null and alternative hypotheses:\n",
    "- there is NOT an association between which pack (Vein vs. Artery) someone subscribes to and their iron level\n",
    "- alternative: There is an association between which pack (Vein vs. Artery) someone subscribes to and their iron level\n",
    "\n",
    "For this test, we’re interested in an association between two categorical variables, so the Chi-Square test is our choice."
   ]
  },
  {
   "cell_type": "code",
   "execution_count": 31,
   "metadata": {},
   "outputs": [
    {
     "name": "stdout",
     "output_type": "stream",
     "text": [
      "9.359749337433008e-25\n"
     ]
    }
   ],
   "source": [
    "# Run Chi-Square test\n",
    "chi2, pval, dof, exp = chi2_contingency(Xtab)\n",
    "print(pval)"
   ]
  },
  {
   "cell_type": "markdown",
   "metadata": {},
   "source": [
    "Our p-value is equivalent to 0.000000000000000000000000936. This is smaller than 0.05, so we conclude that there IS a significant association between pack and iron level."
   ]
  }
 ],
 "metadata": {
  "kernelspec": {
   "display_name": "Python 3.9.12 ('base')",
   "language": "python",
   "name": "python3"
  },
  "language_info": {
   "codemirror_mode": {
    "name": "ipython",
    "version": 3
   },
   "file_extension": ".py",
   "mimetype": "text/x-python",
   "name": "python",
   "nbconvert_exporter": "python",
   "pygments_lexer": "ipython3",
   "version": "3.9.12"
  },
  "orig_nbformat": 4,
  "vscode": {
   "interpreter": {
    "hash": "bad3e0717367b3cff4aae9c6c5645f8f35fe4ca9a016dd7720b001d80364b124"
   }
  }
 },
 "nbformat": 4,
 "nbformat_minor": 2
}
